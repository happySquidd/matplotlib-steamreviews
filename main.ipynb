{
 "cells": [
  {
   "cell_type": "code",
   "execution_count": null,
   "id": "159e0b84",
   "metadata": {
    "vscode": {
     "languageId": "plaintext"
    }
   },
   "outputs": [],
   "source": [
    "import kagglehub\n",
    "import pandas as pd\n",
    "import os\n",
    "from matplotlib import pyplot as plt\n",
    "\n",
    "# dpwnload the dataset\n",
    "path = kagglehub.dataset_download(\"andrewmvd/steam-reviews\")\n",
    "\n",
    "# create a correct path by using os\n",
    "csv_path = os.path.join(path, 'dataset.csv')\n",
    "\n",
    "df = pd.read_csv(csv_path)"
   ]
  },
  {
   "cell_type": "code",
   "execution_count": null,
   "id": "5e80bd57",
   "metadata": {
    "vscode": {
     "languageId": "plaintext"
    }
   },
   "outputs": [],
   "source": [
    "# group by game name and count reviews for each game and put it under 'review_count' column\n",
    "review_count_df = df.groupby('app_name').size().reset_index(name='review_count')\n",
    "# sort the results\n",
    "most_reviews_df = review_count_df.sort_values('review_count', ascending=False)\n",
    "top_10_games = most_reviews_df.head(10)"
   ]
  },
  {
   "cell_type": "code",
   "execution_count": null,
   "id": "f1b8536f",
   "metadata": {
    "vscode": {
     "languageId": "plaintext"
    }
   },
   "outputs": [],
   "source": [
    "# set up the bar graph\n",
    "plt.figure(figsize=(15, 20))\n",
    "barlist = plt.bar(range(0, 10), top_10_games['review_count'], ec='black', lw=3)\n",
    "plt.xticks(range(10), top_10_games['app_name'])\n",
    "\n",
    "# label\n",
    "plt.title('Top 10 most reviewed games', weight='bold', size=25)\n",
    "plt.xlabel('Game title', size=14)\n",
    "plt.ylabel('Number of reviews', size=14)\n",
    "\n",
    "plt.show()"
   ]
  }
 ],
 "metadata": {
  "language_info": {
   "name": "python"
  }
 },
 "nbformat": 4,
 "nbformat_minor": 5
}
